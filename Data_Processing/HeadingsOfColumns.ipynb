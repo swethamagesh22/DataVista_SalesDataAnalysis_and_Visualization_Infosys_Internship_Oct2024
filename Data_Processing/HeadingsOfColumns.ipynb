{
  "nbformat": 4,
  "nbformat_minor": 0,
  "metadata": {
    "colab": {
      "provenance": []
    },
    "kernelspec": {
      "name": "python3",
      "display_name": "Python 3"
    },
    "language_info": {
      "name": "python"
    }
  },
  "cells": [
    {
      "cell_type": "code",
      "source": [
        "import pandas as pd"
      ],
      "metadata": {
        "id": "P3z8Dsyt8PB6"
      },
      "execution_count": 15,
      "outputs": []
    },
    {
      "cell_type": "code",
      "source": [
        "df = pd.read_csv('data.csv')\n",
        "# df = pd.read_excel('file.xlsx')\n",
        "# df = pd.read_json('file.json')"
      ],
      "metadata": {
        "id": "ex0HZZ2a8R5V"
      },
      "execution_count": 16,
      "outputs": []
    },
    {
      "cell_type": "code",
      "source": [
        "# Extract the headings (column names)\n",
        "headings = df.columns.tolist()\n",
        "\n",
        "# Print the headings\n",
        "print(\"Headings:\", headings)"
      ],
      "metadata": {
        "colab": {
          "base_uri": "https://localhost:8080/"
        },
        "id": "uzUpaIw18UZI",
        "outputId": "e78c9a49-857c-409b-d9ba-b4199be86f4d"
      },
      "execution_count": 17,
      "outputs": [
        {
          "output_type": "stream",
          "name": "stdout",
          "text": [
            "Headings: ['User ID', 'country', 'Gender', 'Age', 'salary', 'Purchased']\n"
          ]
        }
      ]
    }
  ]
}