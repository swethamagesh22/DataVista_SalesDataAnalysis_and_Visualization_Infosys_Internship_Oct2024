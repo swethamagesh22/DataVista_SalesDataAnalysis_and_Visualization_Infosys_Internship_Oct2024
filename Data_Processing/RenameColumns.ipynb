{
  "nbformat": 4,
  "nbformat_minor": 0,
  "metadata": {
    "colab": {
      "provenance": []
    },
    "kernelspec": {
      "name": "python3",
      "display_name": "Python 3"
    },
    "language_info": {
      "name": "python"
    }
  },
  "cells": [
    {
      "cell_type": "code",
      "source": [
        "import pandas as pd"
      ],
      "metadata": {
        "id": "P3z8Dsyt8PB6"
      },
      "execution_count": 15,
      "outputs": []
    },
    {
      "cell_type": "code",
      "source": [
        "# Sample DataFrame\n",
        "df = pd.DataFrame({\n",
        "    'OldName1': [1, 2, 3],\n",
        "    'OldName2': [4, 5, 6],\n",
        "    'OldName3': [7, 8, 9]\n",
        "})"
      ],
      "metadata": {
        "id": "ex0HZZ2a8R5V"
      },
      "execution_count": 18,
      "outputs": []
    },
    {
      "cell_type": "code",
      "source": [
        "# Print original DataFrame\n",
        "print(\"Original DataFrame:\")\n",
        "print(df)"
      ],
      "metadata": {
        "colab": {
          "base_uri": "https://localhost:8080/"
        },
        "id": "uzUpaIw18UZI",
        "outputId": "dc942e7a-4d30-4248-e976-125151bfcc1b"
      },
      "execution_count": 21,
      "outputs": [
        {
          "output_type": "stream",
          "name": "stdout",
          "text": [
            "Original DataFrame:\n",
            "   NewName1  NewName2  NewName3\n",
            "0         1         4         7\n",
            "1         2         5         8\n",
            "2         3         6         9\n"
          ]
        }
      ]
    },
    {
      "cell_type": "code",
      "source": [
        "# Rename all columns\n",
        "df.columns = ['NewName1', 'NewName2', 'NewName3']"
      ],
      "metadata": {
        "id": "WOyaCxjG8i4T"
      },
      "execution_count": 22,
      "outputs": []
    },
    {
      "cell_type": "code",
      "source": [
        "# Print updated DataFrame\n",
        "print(\"\\nDataFrame after renaming all columns:\")\n",
        "print(df)"
      ],
      "metadata": {
        "id": "CYyeGXVL8qNQ",
        "outputId": "86d0961d-2962-4a0d-8a2d-41b8026d0e44",
        "colab": {
          "base_uri": "https://localhost:8080/"
        }
      },
      "execution_count": 23,
      "outputs": [
        {
          "output_type": "stream",
          "name": "stdout",
          "text": [
            "\n",
            "DataFrame after renaming all columns:\n",
            "   NewName1  NewName2  NewName3\n",
            "0         1         4         7\n",
            "1         2         5         8\n",
            "2         3         6         9\n"
          ]
        }
      ]
    }
  ]
}