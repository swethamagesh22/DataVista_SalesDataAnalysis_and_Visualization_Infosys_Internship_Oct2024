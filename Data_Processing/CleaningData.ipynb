{
  "nbformat": 4,
  "nbformat_minor": 0,
  "metadata": {
    "colab": {
      "provenance": []
    },
    "kernelspec": {
      "name": "python3",
      "display_name": "Python 3"
    },
    "language_info": {
      "name": "python"
    }
  },
  "cells": [
    {
      "cell_type": "code",
      "execution_count": 2,
      "metadata": {
        "id": "0wjok5nd7PV6"
      },
      "outputs": [],
      "source": [
        "import pandas as pd\n",
        "import numpy as np\n",
        "from scipy import stats"
      ]
    },
    {
      "cell_type": "code",
      "source": [
        "# Load data from a CSV file\n",
        "df = pd.read_csv('data.csv')"
      ],
      "metadata": {
        "id": "scOVM7ng7uA9"
      },
      "execution_count": 3,
      "outputs": []
    },
    {
      "cell_type": "code",
      "source": [
        "# Inspect the data\n",
        "print(\"Original DataFrame:\")\n",
        "print(df.head())"
      ],
      "metadata": {
        "colab": {
          "base_uri": "https://localhost:8080/"
        },
        "id": "FcTm8zJM7w_w",
        "outputId": "cb7063e7-5e3a-4b06-c1f8-58514fbe699e"
      },
      "execution_count": 4,
      "outputs": [
        {
          "output_type": "stream",
          "name": "stdout",
          "text": [
            "Original DataFrame:\n",
            "    User ID country  Gender   Age   salary  Purchased\n",
            "0  15624510   India    Male  19.0  19000.0          0\n",
            "1  15810944     USA    Male  35.0      NaN          1\n",
            "2  15668575  France  Female  26.0  43000.0          0\n",
            "3  15603246     USA  Female   NaN  57000.0          0\n",
            "4  15804002  France    Male  19.0  76000.0          0\n"
          ]
        }
      ]
    },
    {
      "cell_type": "code",
      "source": [
        "print(\"\\nDataFrame Info:\")\n",
        "print(df.info())"
      ],
      "metadata": {
        "colab": {
          "base_uri": "https://localhost:8080/"
        },
        "id": "yU_59_CN7y_d",
        "outputId": "305b32ba-f7fa-49d3-e167-5c88e81dfc46"
      },
      "execution_count": 5,
      "outputs": [
        {
          "output_type": "stream",
          "name": "stdout",
          "text": [
            "\n",
            "DataFrame Info:\n",
            "<class 'pandas.core.frame.DataFrame'>\n",
            "RangeIndex: 20 entries, 0 to 19\n",
            "Data columns (total 6 columns):\n",
            " #   Column     Non-Null Count  Dtype  \n",
            "---  ------     --------------  -----  \n",
            " 0   User ID    20 non-null     int64  \n",
            " 1   country    19 non-null     object \n",
            " 2   Gender     20 non-null     object \n",
            " 3   Age        17 non-null     float64\n",
            " 4   salary     19 non-null     float64\n",
            " 5   Purchased  20 non-null     int64  \n",
            "dtypes: float64(2), int64(2), object(2)\n",
            "memory usage: 1.1+ KB\n",
            "None\n"
          ]
        }
      ]
    },
    {
      "cell_type": "code",
      "source": [
        "print(\"\\nStatistical Summary:\")\n",
        "print(df.describe())"
      ],
      "metadata": {
        "colab": {
          "base_uri": "https://localhost:8080/"
        },
        "id": "bQ9hJPMC71MV",
        "outputId": "b5f13b74-501e-4d77-ffff-5ce0da3bce7f"
      },
      "execution_count": 6,
      "outputs": [
        {
          "output_type": "stream",
          "name": "stdout",
          "text": [
            "\n",
            "Statistical Summary:\n",
            "            User ID        Age         salary  Purchased\n",
            "count  2.000000e+01  17.000000      19.000000  20.000000\n",
            "mean   1.567881e+07  29.529412   57368.421053   0.400000\n",
            "std    6.987218e+04   9.348246   33128.052105   0.502625\n",
            "min    1.557077e+07  18.000000   18000.000000   0.000000\n",
            "25%    1.561468e+07  25.000000   28000.000000   0.000000\n",
            "50%    1.569626e+07  27.000000   57000.000000   0.000000\n",
            "75%    1.572768e+07  35.000000   80000.000000   1.000000\n",
            "max    1.581094e+07  47.000000  150000.000000   1.000000\n"
          ]
        }
      ]
    },
    {
      "cell_type": "code",
      "source": [
        "# Handling Missing Values\n",
        "print(\"\\nMissing Values in Each Column:\")\n",
        "print(df.isnull().sum())"
      ],
      "metadata": {
        "colab": {
          "base_uri": "https://localhost:8080/"
        },
        "id": "GQcFfx4973NJ",
        "outputId": "78723918-7ab5-403d-e8b5-5c334759c31b"
      },
      "execution_count": 7,
      "outputs": [
        {
          "output_type": "stream",
          "name": "stdout",
          "text": [
            "\n",
            "Missing Values in Each Column:\n",
            "User ID      0\n",
            "country      1\n",
            "Gender       0\n",
            "Age          3\n",
            "salary       1\n",
            "Purchased    0\n",
            "dtype: int64\n"
          ]
        }
      ]
    },
    {
      "cell_type": "code",
      "source": [
        "# Drop rows with any missing values (optional)\n",
        "# df_cleaned = df.dropna()\n",
        "\n",
        "# Fill missing values with a specific value (e.g., 0)\n",
        "df.fillna(value=0, inplace=True)"
      ],
      "metadata": {
        "id": "BziNf--J75Ix"
      },
      "execution_count": 8,
      "outputs": []
    },
    {
      "cell_type": "code",
      "source": [
        "# Fill missing values with the mean of the column for a specific column\n",
        "# df['column_name'].fillna(df['column_name'].mean(), inplace=True)\n",
        "# Removing Duplicates\n",
        "print(\"\\nNumber of Duplicate Rows:\", df.duplicated().sum())\n",
        "df_cleaned = df.drop_duplicates()"
      ],
      "metadata": {
        "colab": {
          "base_uri": "https://localhost:8080/"
        },
        "id": "PfVkj0D078eH",
        "outputId": "a38f3d98-0ea1-494c-a865-690468f06ef7"
      },
      "execution_count": 9,
      "outputs": [
        {
          "output_type": "stream",
          "name": "stdout",
          "text": [
            "\n",
            "Number of Duplicate Rows: 0\n"
          ]
        }
      ]
    },
    {
      "cell_type": "code",
      "source": [
        "# Changing Data Types\n",
        "# Convert a column to a specific data type (e.g., integer)\n",
        "# df_cleaned['column_name'] = df_cleaned['column_name'].astype(int)\n",
        "\n",
        "# Convert a string column to datetime\n",
        "# df_cleaned['date_column'] = pd.to_datetime(df_cleaned['date_column'])\n",
        "\n",
        "# Renaming Columns\n",
        "df_cleaned.rename(columns={'country': 'Country'}, inplace=True)"
      ],
      "metadata": {
        "id": "aZzWR8zW7-lt"
      },
      "execution_count": 10,
      "outputs": []
    },
    {
      "cell_type": "code",
      "source": [
        "# Filtering Rows\n",
        "# Filter rows where 'column_name' > threshold_value\n",
        "# df_filtered = df_cleaned[df_cleaned['column_name'] > threshold_value]\n",
        "\n",
        "# Standardizing Text Data\n",
        "# Convert a text column to lowercase\n",
        "df_cleaned['Gender'] = df_cleaned['Gender'].str.lower()\n",
        "# Remove leading and trailing whitespace\n",
        "df_cleaned['Gender'] = df_cleaned['Gender'].str.strip()\n",
        "# Replace specific strings\n",
        "# df_cleaned['text_column'] = df_cleaned['text_column'].str.replace('old_value', 'new_value')"
      ],
      "metadata": {
        "id": "pNkSMZCQ8At-"
      },
      "execution_count": 11,
      "outputs": []
    },
    {
      "cell_type": "code",
      "source": [
        "# Binning Continuous Data\n",
        "# Bin a continuous variable into categories\n",
        "# bins = [0, 50, 100]\n",
        "# labels = ['Low', 'High']\n",
        "# df_cleaned['binned_column'] = pd.cut(df_cleaned['continuous_column'], bins=bins, labels=labels)\n",
        "\n",
        "# Outlier Detection and Removal\n",
        "df_cleaned = df_cleaned[(np.abs(stats.zscore(df_cleaned['Age'])) < 3)]"
      ],
      "metadata": {
        "id": "uI3FedPP8CcM"
      },
      "execution_count": 12,
      "outputs": []
    },
    {
      "cell_type": "code",
      "source": [
        "# Final Check\n",
        "print(\"\\nCleaned DataFrame Info:\")\n",
        "print(df_cleaned.info())\n",
        "print(\"\\nCleaned DataFrame:\")\n",
        "print(df_cleaned.head())"
      ],
      "metadata": {
        "id": "NaXLwkeO8EHi",
        "outputId": "fd001b97-9b34-4a8e-bfb1-530a9f06b972",
        "colab": {
          "base_uri": "https://localhost:8080/"
        }
      },
      "execution_count": 13,
      "outputs": [
        {
          "output_type": "stream",
          "name": "stdout",
          "text": [
            "\n",
            "Cleaned DataFrame Info:\n",
            "<class 'pandas.core.frame.DataFrame'>\n",
            "RangeIndex: 20 entries, 0 to 19\n",
            "Data columns (total 6 columns):\n",
            " #   Column     Non-Null Count  Dtype  \n",
            "---  ------     --------------  -----  \n",
            " 0   User ID    20 non-null     int64  \n",
            " 1   Country    20 non-null     object \n",
            " 2   Gender     20 non-null     object \n",
            " 3   Age        20 non-null     float64\n",
            " 4   salary     20 non-null     float64\n",
            " 5   Purchased  20 non-null     int64  \n",
            "dtypes: float64(2), int64(2), object(2)\n",
            "memory usage: 1.1+ KB\n",
            "None\n",
            "\n",
            "Cleaned DataFrame:\n",
            "    User ID Country  Gender   Age   salary  Purchased\n",
            "0  15624510   India    male  19.0  19000.0          0\n",
            "1  15810944     USA    male  35.0      0.0          1\n",
            "2  15668575  France  female  26.0  43000.0          0\n",
            "3  15603246     USA  female   0.0  57000.0          0\n",
            "4  15804002  France    male  19.0  76000.0          0\n"
          ]
        }
      ]
    }
  ]
}